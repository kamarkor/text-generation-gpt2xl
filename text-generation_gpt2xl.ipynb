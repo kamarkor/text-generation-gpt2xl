{
  "nbformat": 4,
  "nbformat_minor": 0,
  "metadata": {
    "colab": {
      "provenance": [],
      "machine_shape": "hm",
      "toc_visible": true
    },
    "kernelspec": {
      "name": "python3",
      "display_name": "Python 3"
    },
    "language_info": {
      "name": "python"
    },
    "widgets": {
      "application/vnd.jupyter.widget-state+json": {
        "e9e494b5e2cd4fa9b7bed623a3a5efd7": {
          "model_module": "@jupyter-widgets/controls",
          "model_name": "HBoxModel",
          "model_module_version": "1.5.0",
          "state": {
            "_dom_classes": [],
            "_model_module": "@jupyter-widgets/controls",
            "_model_module_version": "1.5.0",
            "_model_name": "HBoxModel",
            "_view_count": null,
            "_view_module": "@jupyter-widgets/controls",
            "_view_module_version": "1.5.0",
            "_view_name": "HBoxView",
            "box_style": "",
            "children": [
              "IPY_MODEL_e26829138df54b0ab3982e63632faf53",
              "IPY_MODEL_9d7f1b3e6ae24a64b66b94834ec0c2a8",
              "IPY_MODEL_de88e4ac34f04f90bd1f7fb6c59737d4"
            ],
            "layout": "IPY_MODEL_dea15e8153834eecac43f0fa9ec32d2b"
          }
        },
        "e26829138df54b0ab3982e63632faf53": {
          "model_module": "@jupyter-widgets/controls",
          "model_name": "HTMLModel",
          "model_module_version": "1.5.0",
          "state": {
            "_dom_classes": [],
            "_model_module": "@jupyter-widgets/controls",
            "_model_module_version": "1.5.0",
            "_model_name": "HTMLModel",
            "_view_count": null,
            "_view_module": "@jupyter-widgets/controls",
            "_view_module_version": "1.5.0",
            "_view_name": "HTMLView",
            "description": "",
            "description_tooltip": null,
            "layout": "IPY_MODEL_a7c0e396349141b3a1855847548a7102",
            "placeholder": "​",
            "style": "IPY_MODEL_4014c2b68b134a69bcd6c6d974476dc5",
            "value": "Downloading: 100%"
          }
        },
        "9d7f1b3e6ae24a64b66b94834ec0c2a8": {
          "model_module": "@jupyter-widgets/controls",
          "model_name": "FloatProgressModel",
          "model_module_version": "1.5.0",
          "state": {
            "_dom_classes": [],
            "_model_module": "@jupyter-widgets/controls",
            "_model_module_version": "1.5.0",
            "_model_name": "FloatProgressModel",
            "_view_count": null,
            "_view_module": "@jupyter-widgets/controls",
            "_view_module_version": "1.5.0",
            "_view_name": "ProgressView",
            "bar_style": "success",
            "description": "",
            "description_tooltip": null,
            "layout": "IPY_MODEL_60510950cc884577a1e9b5c5dc816f04",
            "max": 689,
            "min": 0,
            "orientation": "horizontal",
            "style": "IPY_MODEL_d1ec43cd20df4a0398fb6a069436bcea",
            "value": 689
          }
        },
        "de88e4ac34f04f90bd1f7fb6c59737d4": {
          "model_module": "@jupyter-widgets/controls",
          "model_name": "HTMLModel",
          "model_module_version": "1.5.0",
          "state": {
            "_dom_classes": [],
            "_model_module": "@jupyter-widgets/controls",
            "_model_module_version": "1.5.0",
            "_model_name": "HTMLModel",
            "_view_count": null,
            "_view_module": "@jupyter-widgets/controls",
            "_view_module_version": "1.5.0",
            "_view_name": "HTMLView",
            "description": "",
            "description_tooltip": null,
            "layout": "IPY_MODEL_9e2e44f1190f4e0083e3ee07ba81aeef",
            "placeholder": "​",
            "style": "IPY_MODEL_5ba3e4b682474c6aa5a59adfce41f475",
            "value": " 689/689 [00:00&lt;00:00, 18.2kB/s]"
          }
        },
        "dea15e8153834eecac43f0fa9ec32d2b": {
          "model_module": "@jupyter-widgets/base",
          "model_name": "LayoutModel",
          "model_module_version": "1.2.0",
          "state": {
            "_model_module": "@jupyter-widgets/base",
            "_model_module_version": "1.2.0",
            "_model_name": "LayoutModel",
            "_view_count": null,
            "_view_module": "@jupyter-widgets/base",
            "_view_module_version": "1.2.0",
            "_view_name": "LayoutView",
            "align_content": null,
            "align_items": null,
            "align_self": null,
            "border": null,
            "bottom": null,
            "display": null,
            "flex": null,
            "flex_flow": null,
            "grid_area": null,
            "grid_auto_columns": null,
            "grid_auto_flow": null,
            "grid_auto_rows": null,
            "grid_column": null,
            "grid_gap": null,
            "grid_row": null,
            "grid_template_areas": null,
            "grid_template_columns": null,
            "grid_template_rows": null,
            "height": null,
            "justify_content": null,
            "justify_items": null,
            "left": null,
            "margin": null,
            "max_height": null,
            "max_width": null,
            "min_height": null,
            "min_width": null,
            "object_fit": null,
            "object_position": null,
            "order": null,
            "overflow": null,
            "overflow_x": null,
            "overflow_y": null,
            "padding": null,
            "right": null,
            "top": null,
            "visibility": null,
            "width": null
          }
        },
        "a7c0e396349141b3a1855847548a7102": {
          "model_module": "@jupyter-widgets/base",
          "model_name": "LayoutModel",
          "model_module_version": "1.2.0",
          "state": {
            "_model_module": "@jupyter-widgets/base",
            "_model_module_version": "1.2.0",
            "_model_name": "LayoutModel",
            "_view_count": null,
            "_view_module": "@jupyter-widgets/base",
            "_view_module_version": "1.2.0",
            "_view_name": "LayoutView",
            "align_content": null,
            "align_items": null,
            "align_self": null,
            "border": null,
            "bottom": null,
            "display": null,
            "flex": null,
            "flex_flow": null,
            "grid_area": null,
            "grid_auto_columns": null,
            "grid_auto_flow": null,
            "grid_auto_rows": null,
            "grid_column": null,
            "grid_gap": null,
            "grid_row": null,
            "grid_template_areas": null,
            "grid_template_columns": null,
            "grid_template_rows": null,
            "height": null,
            "justify_content": null,
            "justify_items": null,
            "left": null,
            "margin": null,
            "max_height": null,
            "max_width": null,
            "min_height": null,
            "min_width": null,
            "object_fit": null,
            "object_position": null,
            "order": null,
            "overflow": null,
            "overflow_x": null,
            "overflow_y": null,
            "padding": null,
            "right": null,
            "top": null,
            "visibility": null,
            "width": null
          }
        },
        "4014c2b68b134a69bcd6c6d974476dc5": {
          "model_module": "@jupyter-widgets/controls",
          "model_name": "DescriptionStyleModel",
          "model_module_version": "1.5.0",
          "state": {
            "_model_module": "@jupyter-widgets/controls",
            "_model_module_version": "1.5.0",
            "_model_name": "DescriptionStyleModel",
            "_view_count": null,
            "_view_module": "@jupyter-widgets/base",
            "_view_module_version": "1.2.0",
            "_view_name": "StyleView",
            "description_width": ""
          }
        },
        "60510950cc884577a1e9b5c5dc816f04": {
          "model_module": "@jupyter-widgets/base",
          "model_name": "LayoutModel",
          "model_module_version": "1.2.0",
          "state": {
            "_model_module": "@jupyter-widgets/base",
            "_model_module_version": "1.2.0",
            "_model_name": "LayoutModel",
            "_view_count": null,
            "_view_module": "@jupyter-widgets/base",
            "_view_module_version": "1.2.0",
            "_view_name": "LayoutView",
            "align_content": null,
            "align_items": null,
            "align_self": null,
            "border": null,
            "bottom": null,
            "display": null,
            "flex": null,
            "flex_flow": null,
            "grid_area": null,
            "grid_auto_columns": null,
            "grid_auto_flow": null,
            "grid_auto_rows": null,
            "grid_column": null,
            "grid_gap": null,
            "grid_row": null,
            "grid_template_areas": null,
            "grid_template_columns": null,
            "grid_template_rows": null,
            "height": null,
            "justify_content": null,
            "justify_items": null,
            "left": null,
            "margin": null,
            "max_height": null,
            "max_width": null,
            "min_height": null,
            "min_width": null,
            "object_fit": null,
            "object_position": null,
            "order": null,
            "overflow": null,
            "overflow_x": null,
            "overflow_y": null,
            "padding": null,
            "right": null,
            "top": null,
            "visibility": null,
            "width": null
          }
        },
        "d1ec43cd20df4a0398fb6a069436bcea": {
          "model_module": "@jupyter-widgets/controls",
          "model_name": "ProgressStyleModel",
          "model_module_version": "1.5.0",
          "state": {
            "_model_module": "@jupyter-widgets/controls",
            "_model_module_version": "1.5.0",
            "_model_name": "ProgressStyleModel",
            "_view_count": null,
            "_view_module": "@jupyter-widgets/base",
            "_view_module_version": "1.2.0",
            "_view_name": "StyleView",
            "bar_color": null,
            "description_width": ""
          }
        },
        "9e2e44f1190f4e0083e3ee07ba81aeef": {
          "model_module": "@jupyter-widgets/base",
          "model_name": "LayoutModel",
          "model_module_version": "1.2.0",
          "state": {
            "_model_module": "@jupyter-widgets/base",
            "_model_module_version": "1.2.0",
            "_model_name": "LayoutModel",
            "_view_count": null,
            "_view_module": "@jupyter-widgets/base",
            "_view_module_version": "1.2.0",
            "_view_name": "LayoutView",
            "align_content": null,
            "align_items": null,
            "align_self": null,
            "border": null,
            "bottom": null,
            "display": null,
            "flex": null,
            "flex_flow": null,
            "grid_area": null,
            "grid_auto_columns": null,
            "grid_auto_flow": null,
            "grid_auto_rows": null,
            "grid_column": null,
            "grid_gap": null,
            "grid_row": null,
            "grid_template_areas": null,
            "grid_template_columns": null,
            "grid_template_rows": null,
            "height": null,
            "justify_content": null,
            "justify_items": null,
            "left": null,
            "margin": null,
            "max_height": null,
            "max_width": null,
            "min_height": null,
            "min_width": null,
            "object_fit": null,
            "object_position": null,
            "order": null,
            "overflow": null,
            "overflow_x": null,
            "overflow_y": null,
            "padding": null,
            "right": null,
            "top": null,
            "visibility": null,
            "width": null
          }
        },
        "5ba3e4b682474c6aa5a59adfce41f475": {
          "model_module": "@jupyter-widgets/controls",
          "model_name": "DescriptionStyleModel",
          "model_module_version": "1.5.0",
          "state": {
            "_model_module": "@jupyter-widgets/controls",
            "_model_module_version": "1.5.0",
            "_model_name": "DescriptionStyleModel",
            "_view_count": null,
            "_view_module": "@jupyter-widgets/base",
            "_view_module_version": "1.2.0",
            "_view_name": "StyleView",
            "description_width": ""
          }
        },
        "e4a2bf8e1422498992b9ed7f680ae6fa": {
          "model_module": "@jupyter-widgets/controls",
          "model_name": "HBoxModel",
          "model_module_version": "1.5.0",
          "state": {
            "_dom_classes": [],
            "_model_module": "@jupyter-widgets/controls",
            "_model_module_version": "1.5.0",
            "_model_name": "HBoxModel",
            "_view_count": null,
            "_view_module": "@jupyter-widgets/controls",
            "_view_module_version": "1.5.0",
            "_view_name": "HBoxView",
            "box_style": "",
            "children": [
              "IPY_MODEL_93647367157c430391cd04cb1d285ecc",
              "IPY_MODEL_174cd23867954219903ef39195aa6474",
              "IPY_MODEL_0eb7c6ab18ec46548660b77c1eaad567"
            ],
            "layout": "IPY_MODEL_863a0b5715b64cebbe2aed3b839f8feb"
          }
        },
        "93647367157c430391cd04cb1d285ecc": {
          "model_module": "@jupyter-widgets/controls",
          "model_name": "HTMLModel",
          "model_module_version": "1.5.0",
          "state": {
            "_dom_classes": [],
            "_model_module": "@jupyter-widgets/controls",
            "_model_module_version": "1.5.0",
            "_model_name": "HTMLModel",
            "_view_count": null,
            "_view_module": "@jupyter-widgets/controls",
            "_view_module_version": "1.5.0",
            "_view_name": "HTMLView",
            "description": "",
            "description_tooltip": null,
            "layout": "IPY_MODEL_995a4da92f2847a3b6a765a0a676bce2",
            "placeholder": "​",
            "style": "IPY_MODEL_c5adf79ad9ef449ead94b3201b26fb21",
            "value": "Downloading: 100%"
          }
        },
        "174cd23867954219903ef39195aa6474": {
          "model_module": "@jupyter-widgets/controls",
          "model_name": "FloatProgressModel",
          "model_module_version": "1.5.0",
          "state": {
            "_dom_classes": [],
            "_model_module": "@jupyter-widgets/controls",
            "_model_module_version": "1.5.0",
            "_model_name": "FloatProgressModel",
            "_view_count": null,
            "_view_module": "@jupyter-widgets/controls",
            "_view_module_version": "1.5.0",
            "_view_name": "ProgressView",
            "bar_style": "success",
            "description": "",
            "description_tooltip": null,
            "layout": "IPY_MODEL_c62ba206bc7e45e79baec6cfee1613ad",
            "max": 1042301,
            "min": 0,
            "orientation": "horizontal",
            "style": "IPY_MODEL_89db7f143990410ba8932f0abb8e907d",
            "value": 1042301
          }
        },
        "0eb7c6ab18ec46548660b77c1eaad567": {
          "model_module": "@jupyter-widgets/controls",
          "model_name": "HTMLModel",
          "model_module_version": "1.5.0",
          "state": {
            "_dom_classes": [],
            "_model_module": "@jupyter-widgets/controls",
            "_model_module_version": "1.5.0",
            "_model_name": "HTMLModel",
            "_view_count": null,
            "_view_module": "@jupyter-widgets/controls",
            "_view_module_version": "1.5.0",
            "_view_name": "HTMLView",
            "description": "",
            "description_tooltip": null,
            "layout": "IPY_MODEL_d71fb322800d4f7eb04573b3fcf096bb",
            "placeholder": "​",
            "style": "IPY_MODEL_e43f7dba615c414ebd0898c9858f4c9b",
            "value": " 0.99M/0.99M [00:00&lt;00:00, 2.26MB/s]"
          }
        },
        "863a0b5715b64cebbe2aed3b839f8feb": {
          "model_module": "@jupyter-widgets/base",
          "model_name": "LayoutModel",
          "model_module_version": "1.2.0",
          "state": {
            "_model_module": "@jupyter-widgets/base",
            "_model_module_version": "1.2.0",
            "_model_name": "LayoutModel",
            "_view_count": null,
            "_view_module": "@jupyter-widgets/base",
            "_view_module_version": "1.2.0",
            "_view_name": "LayoutView",
            "align_content": null,
            "align_items": null,
            "align_self": null,
            "border": null,
            "bottom": null,
            "display": null,
            "flex": null,
            "flex_flow": null,
            "grid_area": null,
            "grid_auto_columns": null,
            "grid_auto_flow": null,
            "grid_auto_rows": null,
            "grid_column": null,
            "grid_gap": null,
            "grid_row": null,
            "grid_template_areas": null,
            "grid_template_columns": null,
            "grid_template_rows": null,
            "height": null,
            "justify_content": null,
            "justify_items": null,
            "left": null,
            "margin": null,
            "max_height": null,
            "max_width": null,
            "min_height": null,
            "min_width": null,
            "object_fit": null,
            "object_position": null,
            "order": null,
            "overflow": null,
            "overflow_x": null,
            "overflow_y": null,
            "padding": null,
            "right": null,
            "top": null,
            "visibility": null,
            "width": null
          }
        },
        "995a4da92f2847a3b6a765a0a676bce2": {
          "model_module": "@jupyter-widgets/base",
          "model_name": "LayoutModel",
          "model_module_version": "1.2.0",
          "state": {
            "_model_module": "@jupyter-widgets/base",
            "_model_module_version": "1.2.0",
            "_model_name": "LayoutModel",
            "_view_count": null,
            "_view_module": "@jupyter-widgets/base",
            "_view_module_version": "1.2.0",
            "_view_name": "LayoutView",
            "align_content": null,
            "align_items": null,
            "align_self": null,
            "border": null,
            "bottom": null,
            "display": null,
            "flex": null,
            "flex_flow": null,
            "grid_area": null,
            "grid_auto_columns": null,
            "grid_auto_flow": null,
            "grid_auto_rows": null,
            "grid_column": null,
            "grid_gap": null,
            "grid_row": null,
            "grid_template_areas": null,
            "grid_template_columns": null,
            "grid_template_rows": null,
            "height": null,
            "justify_content": null,
            "justify_items": null,
            "left": null,
            "margin": null,
            "max_height": null,
            "max_width": null,
            "min_height": null,
            "min_width": null,
            "object_fit": null,
            "object_position": null,
            "order": null,
            "overflow": null,
            "overflow_x": null,
            "overflow_y": null,
            "padding": null,
            "right": null,
            "top": null,
            "visibility": null,
            "width": null
          }
        },
        "c5adf79ad9ef449ead94b3201b26fb21": {
          "model_module": "@jupyter-widgets/controls",
          "model_name": "DescriptionStyleModel",
          "model_module_version": "1.5.0",
          "state": {
            "_model_module": "@jupyter-widgets/controls",
            "_model_module_version": "1.5.0",
            "_model_name": "DescriptionStyleModel",
            "_view_count": null,
            "_view_module": "@jupyter-widgets/base",
            "_view_module_version": "1.2.0",
            "_view_name": "StyleView",
            "description_width": ""
          }
        },
        "c62ba206bc7e45e79baec6cfee1613ad": {
          "model_module": "@jupyter-widgets/base",
          "model_name": "LayoutModel",
          "model_module_version": "1.2.0",
          "state": {
            "_model_module": "@jupyter-widgets/base",
            "_model_module_version": "1.2.0",
            "_model_name": "LayoutModel",
            "_view_count": null,
            "_view_module": "@jupyter-widgets/base",
            "_view_module_version": "1.2.0",
            "_view_name": "LayoutView",
            "align_content": null,
            "align_items": null,
            "align_self": null,
            "border": null,
            "bottom": null,
            "display": null,
            "flex": null,
            "flex_flow": null,
            "grid_area": null,
            "grid_auto_columns": null,
            "grid_auto_flow": null,
            "grid_auto_rows": null,
            "grid_column": null,
            "grid_gap": null,
            "grid_row": null,
            "grid_template_areas": null,
            "grid_template_columns": null,
            "grid_template_rows": null,
            "height": null,
            "justify_content": null,
            "justify_items": null,
            "left": null,
            "margin": null,
            "max_height": null,
            "max_width": null,
            "min_height": null,
            "min_width": null,
            "object_fit": null,
            "object_position": null,
            "order": null,
            "overflow": null,
            "overflow_x": null,
            "overflow_y": null,
            "padding": null,
            "right": null,
            "top": null,
            "visibility": null,
            "width": null
          }
        },
        "89db7f143990410ba8932f0abb8e907d": {
          "model_module": "@jupyter-widgets/controls",
          "model_name": "ProgressStyleModel",
          "model_module_version": "1.5.0",
          "state": {
            "_model_module": "@jupyter-widgets/controls",
            "_model_module_version": "1.5.0",
            "_model_name": "ProgressStyleModel",
            "_view_count": null,
            "_view_module": "@jupyter-widgets/base",
            "_view_module_version": "1.2.0",
            "_view_name": "StyleView",
            "bar_color": null,
            "description_width": ""
          }
        },
        "d71fb322800d4f7eb04573b3fcf096bb": {
          "model_module": "@jupyter-widgets/base",
          "model_name": "LayoutModel",
          "model_module_version": "1.2.0",
          "state": {
            "_model_module": "@jupyter-widgets/base",
            "_model_module_version": "1.2.0",
            "_model_name": "LayoutModel",
            "_view_count": null,
            "_view_module": "@jupyter-widgets/base",
            "_view_module_version": "1.2.0",
            "_view_name": "LayoutView",
            "align_content": null,
            "align_items": null,
            "align_self": null,
            "border": null,
            "bottom": null,
            "display": null,
            "flex": null,
            "flex_flow": null,
            "grid_area": null,
            "grid_auto_columns": null,
            "grid_auto_flow": null,
            "grid_auto_rows": null,
            "grid_column": null,
            "grid_gap": null,
            "grid_row": null,
            "grid_template_areas": null,
            "grid_template_columns": null,
            "grid_template_rows": null,
            "height": null,
            "justify_content": null,
            "justify_items": null,
            "left": null,
            "margin": null,
            "max_height": null,
            "max_width": null,
            "min_height": null,
            "min_width": null,
            "object_fit": null,
            "object_position": null,
            "order": null,
            "overflow": null,
            "overflow_x": null,
            "overflow_y": null,
            "padding": null,
            "right": null,
            "top": null,
            "visibility": null,
            "width": null
          }
        },
        "e43f7dba615c414ebd0898c9858f4c9b": {
          "model_module": "@jupyter-widgets/controls",
          "model_name": "DescriptionStyleModel",
          "model_module_version": "1.5.0",
          "state": {
            "_model_module": "@jupyter-widgets/controls",
            "_model_module_version": "1.5.0",
            "_model_name": "DescriptionStyleModel",
            "_view_count": null,
            "_view_module": "@jupyter-widgets/base",
            "_view_module_version": "1.2.0",
            "_view_name": "StyleView",
            "description_width": ""
          }
        },
        "9fb4a99a3f57485cb0a93be9620d74db": {
          "model_module": "@jupyter-widgets/controls",
          "model_name": "HBoxModel",
          "model_module_version": "1.5.0",
          "state": {
            "_dom_classes": [],
            "_model_module": "@jupyter-widgets/controls",
            "_model_module_version": "1.5.0",
            "_model_name": "HBoxModel",
            "_view_count": null,
            "_view_module": "@jupyter-widgets/controls",
            "_view_module_version": "1.5.0",
            "_view_name": "HBoxView",
            "box_style": "",
            "children": [
              "IPY_MODEL_0b9088e4c1bd434e8aff7d0d8a009a4c",
              "IPY_MODEL_12d1ce476c0b45ccbc20db868f87ca6f",
              "IPY_MODEL_7227451338044103a783f763b3bfb7c1"
            ],
            "layout": "IPY_MODEL_02fdc849e8af4da29c023ba68355455a"
          }
        },
        "0b9088e4c1bd434e8aff7d0d8a009a4c": {
          "model_module": "@jupyter-widgets/controls",
          "model_name": "HTMLModel",
          "model_module_version": "1.5.0",
          "state": {
            "_dom_classes": [],
            "_model_module": "@jupyter-widgets/controls",
            "_model_module_version": "1.5.0",
            "_model_name": "HTMLModel",
            "_view_count": null,
            "_view_module": "@jupyter-widgets/controls",
            "_view_module_version": "1.5.0",
            "_view_name": "HTMLView",
            "description": "",
            "description_tooltip": null,
            "layout": "IPY_MODEL_bbe2d7fdfe5c42298e63cb8db0452413",
            "placeholder": "​",
            "style": "IPY_MODEL_21c272a7d8ba41f88e72a5dbae36f3c6",
            "value": "Downloading: 100%"
          }
        },
        "12d1ce476c0b45ccbc20db868f87ca6f": {
          "model_module": "@jupyter-widgets/controls",
          "model_name": "FloatProgressModel",
          "model_module_version": "1.5.0",
          "state": {
            "_dom_classes": [],
            "_model_module": "@jupyter-widgets/controls",
            "_model_module_version": "1.5.0",
            "_model_name": "FloatProgressModel",
            "_view_count": null,
            "_view_module": "@jupyter-widgets/controls",
            "_view_module_version": "1.5.0",
            "_view_name": "ProgressView",
            "bar_style": "success",
            "description": "",
            "description_tooltip": null,
            "layout": "IPY_MODEL_17cf80324fb94a9fa6cc05c5f1f6e653",
            "max": 456318,
            "min": 0,
            "orientation": "horizontal",
            "style": "IPY_MODEL_946e2f4132be445eab46a0fa9d14b49e",
            "value": 456318
          }
        },
        "7227451338044103a783f763b3bfb7c1": {
          "model_module": "@jupyter-widgets/controls",
          "model_name": "HTMLModel",
          "model_module_version": "1.5.0",
          "state": {
            "_dom_classes": [],
            "_model_module": "@jupyter-widgets/controls",
            "_model_module_version": "1.5.0",
            "_model_name": "HTMLModel",
            "_view_count": null,
            "_view_module": "@jupyter-widgets/controls",
            "_view_module_version": "1.5.0",
            "_view_name": "HTMLView",
            "description": "",
            "description_tooltip": null,
            "layout": "IPY_MODEL_fb1a2f6f2ad644c79698e06335eb90ea",
            "placeholder": "​",
            "style": "IPY_MODEL_7c44972817d84a9ea20bc86d8df82b4a",
            "value": " 446k/446k [00:00&lt;00:00, 674kB/s]"
          }
        },
        "02fdc849e8af4da29c023ba68355455a": {
          "model_module": "@jupyter-widgets/base",
          "model_name": "LayoutModel",
          "model_module_version": "1.2.0",
          "state": {
            "_model_module": "@jupyter-widgets/base",
            "_model_module_version": "1.2.0",
            "_model_name": "LayoutModel",
            "_view_count": null,
            "_view_module": "@jupyter-widgets/base",
            "_view_module_version": "1.2.0",
            "_view_name": "LayoutView",
            "align_content": null,
            "align_items": null,
            "align_self": null,
            "border": null,
            "bottom": null,
            "display": null,
            "flex": null,
            "flex_flow": null,
            "grid_area": null,
            "grid_auto_columns": null,
            "grid_auto_flow": null,
            "grid_auto_rows": null,
            "grid_column": null,
            "grid_gap": null,
            "grid_row": null,
            "grid_template_areas": null,
            "grid_template_columns": null,
            "grid_template_rows": null,
            "height": null,
            "justify_content": null,
            "justify_items": null,
            "left": null,
            "margin": null,
            "max_height": null,
            "max_width": null,
            "min_height": null,
            "min_width": null,
            "object_fit": null,
            "object_position": null,
            "order": null,
            "overflow": null,
            "overflow_x": null,
            "overflow_y": null,
            "padding": null,
            "right": null,
            "top": null,
            "visibility": null,
            "width": null
          }
        },
        "bbe2d7fdfe5c42298e63cb8db0452413": {
          "model_module": "@jupyter-widgets/base",
          "model_name": "LayoutModel",
          "model_module_version": "1.2.0",
          "state": {
            "_model_module": "@jupyter-widgets/base",
            "_model_module_version": "1.2.0",
            "_model_name": "LayoutModel",
            "_view_count": null,
            "_view_module": "@jupyter-widgets/base",
            "_view_module_version": "1.2.0",
            "_view_name": "LayoutView",
            "align_content": null,
            "align_items": null,
            "align_self": null,
            "border": null,
            "bottom": null,
            "display": null,
            "flex": null,
            "flex_flow": null,
            "grid_area": null,
            "grid_auto_columns": null,
            "grid_auto_flow": null,
            "grid_auto_rows": null,
            "grid_column": null,
            "grid_gap": null,
            "grid_row": null,
            "grid_template_areas": null,
            "grid_template_columns": null,
            "grid_template_rows": null,
            "height": null,
            "justify_content": null,
            "justify_items": null,
            "left": null,
            "margin": null,
            "max_height": null,
            "max_width": null,
            "min_height": null,
            "min_width": null,
            "object_fit": null,
            "object_position": null,
            "order": null,
            "overflow": null,
            "overflow_x": null,
            "overflow_y": null,
            "padding": null,
            "right": null,
            "top": null,
            "visibility": null,
            "width": null
          }
        },
        "21c272a7d8ba41f88e72a5dbae36f3c6": {
          "model_module": "@jupyter-widgets/controls",
          "model_name": "DescriptionStyleModel",
          "model_module_version": "1.5.0",
          "state": {
            "_model_module": "@jupyter-widgets/controls",
            "_model_module_version": "1.5.0",
            "_model_name": "DescriptionStyleModel",
            "_view_count": null,
            "_view_module": "@jupyter-widgets/base",
            "_view_module_version": "1.2.0",
            "_view_name": "StyleView",
            "description_width": ""
          }
        },
        "17cf80324fb94a9fa6cc05c5f1f6e653": {
          "model_module": "@jupyter-widgets/base",
          "model_name": "LayoutModel",
          "model_module_version": "1.2.0",
          "state": {
            "_model_module": "@jupyter-widgets/base",
            "_model_module_version": "1.2.0",
            "_model_name": "LayoutModel",
            "_view_count": null,
            "_view_module": "@jupyter-widgets/base",
            "_view_module_version": "1.2.0",
            "_view_name": "LayoutView",
            "align_content": null,
            "align_items": null,
            "align_self": null,
            "border": null,
            "bottom": null,
            "display": null,
            "flex": null,
            "flex_flow": null,
            "grid_area": null,
            "grid_auto_columns": null,
            "grid_auto_flow": null,
            "grid_auto_rows": null,
            "grid_column": null,
            "grid_gap": null,
            "grid_row": null,
            "grid_template_areas": null,
            "grid_template_columns": null,
            "grid_template_rows": null,
            "height": null,
            "justify_content": null,
            "justify_items": null,
            "left": null,
            "margin": null,
            "max_height": null,
            "max_width": null,
            "min_height": null,
            "min_width": null,
            "object_fit": null,
            "object_position": null,
            "order": null,
            "overflow": null,
            "overflow_x": null,
            "overflow_y": null,
            "padding": null,
            "right": null,
            "top": null,
            "visibility": null,
            "width": null
          }
        },
        "946e2f4132be445eab46a0fa9d14b49e": {
          "model_module": "@jupyter-widgets/controls",
          "model_name": "ProgressStyleModel",
          "model_module_version": "1.5.0",
          "state": {
            "_model_module": "@jupyter-widgets/controls",
            "_model_module_version": "1.5.0",
            "_model_name": "ProgressStyleModel",
            "_view_count": null,
            "_view_module": "@jupyter-widgets/base",
            "_view_module_version": "1.2.0",
            "_view_name": "StyleView",
            "bar_color": null,
            "description_width": ""
          }
        },
        "fb1a2f6f2ad644c79698e06335eb90ea": {
          "model_module": "@jupyter-widgets/base",
          "model_name": "LayoutModel",
          "model_module_version": "1.2.0",
          "state": {
            "_model_module": "@jupyter-widgets/base",
            "_model_module_version": "1.2.0",
            "_model_name": "LayoutModel",
            "_view_count": null,
            "_view_module": "@jupyter-widgets/base",
            "_view_module_version": "1.2.0",
            "_view_name": "LayoutView",
            "align_content": null,
            "align_items": null,
            "align_self": null,
            "border": null,
            "bottom": null,
            "display": null,
            "flex": null,
            "flex_flow": null,
            "grid_area": null,
            "grid_auto_columns": null,
            "grid_auto_flow": null,
            "grid_auto_rows": null,
            "grid_column": null,
            "grid_gap": null,
            "grid_row": null,
            "grid_template_areas": null,
            "grid_template_columns": null,
            "grid_template_rows": null,
            "height": null,
            "justify_content": null,
            "justify_items": null,
            "left": null,
            "margin": null,
            "max_height": null,
            "max_width": null,
            "min_height": null,
            "min_width": null,
            "object_fit": null,
            "object_position": null,
            "order": null,
            "overflow": null,
            "overflow_x": null,
            "overflow_y": null,
            "padding": null,
            "right": null,
            "top": null,
            "visibility": null,
            "width": null
          }
        },
        "7c44972817d84a9ea20bc86d8df82b4a": {
          "model_module": "@jupyter-widgets/controls",
          "model_name": "DescriptionStyleModel",
          "model_module_version": "1.5.0",
          "state": {
            "_model_module": "@jupyter-widgets/controls",
            "_model_module_version": "1.5.0",
            "_model_name": "DescriptionStyleModel",
            "_view_count": null,
            "_view_module": "@jupyter-widgets/base",
            "_view_module_version": "1.2.0",
            "_view_name": "StyleView",
            "description_width": ""
          }
        },
        "5af1deb29d104dd8aa33c04be2547b8e": {
          "model_module": "@jupyter-widgets/controls",
          "model_name": "HBoxModel",
          "model_module_version": "1.5.0",
          "state": {
            "_dom_classes": [],
            "_model_module": "@jupyter-widgets/controls",
            "_model_module_version": "1.5.0",
            "_model_name": "HBoxModel",
            "_view_count": null,
            "_view_module": "@jupyter-widgets/controls",
            "_view_module_version": "1.5.0",
            "_view_name": "HBoxView",
            "box_style": "",
            "children": [
              "IPY_MODEL_1eb2647877da499497912a5499fe4933",
              "IPY_MODEL_4376f5e1f0f64c6aaa42426c39ec681f",
              "IPY_MODEL_fa116878d0714e94bcfbc2e66485bf76"
            ],
            "layout": "IPY_MODEL_f1531f3d04d9406381628acd269d289a"
          }
        },
        "1eb2647877da499497912a5499fe4933": {
          "model_module": "@jupyter-widgets/controls",
          "model_name": "HTMLModel",
          "model_module_version": "1.5.0",
          "state": {
            "_dom_classes": [],
            "_model_module": "@jupyter-widgets/controls",
            "_model_module_version": "1.5.0",
            "_model_name": "HTMLModel",
            "_view_count": null,
            "_view_module": "@jupyter-widgets/controls",
            "_view_module_version": "1.5.0",
            "_view_name": "HTMLView",
            "description": "",
            "description_tooltip": null,
            "layout": "IPY_MODEL_0ddbe30bf1e2456da5ebdfb4f0e59f58",
            "placeholder": "​",
            "style": "IPY_MODEL_759a62df3f8a424a940391c717e0ae7f",
            "value": "Downloading: 100%"
          }
        },
        "4376f5e1f0f64c6aaa42426c39ec681f": {
          "model_module": "@jupyter-widgets/controls",
          "model_name": "FloatProgressModel",
          "model_module_version": "1.5.0",
          "state": {
            "_dom_classes": [],
            "_model_module": "@jupyter-widgets/controls",
            "_model_module_version": "1.5.0",
            "_model_name": "FloatProgressModel",
            "_view_count": null,
            "_view_module": "@jupyter-widgets/controls",
            "_view_module_version": "1.5.0",
            "_view_name": "ProgressView",
            "bar_style": "success",
            "description": "",
            "description_tooltip": null,
            "layout": "IPY_MODEL_990fe3dafb5a4991bbeb36f7b490f8ef",
            "max": 1355256,
            "min": 0,
            "orientation": "horizontal",
            "style": "IPY_MODEL_2bbc3c78444842fe98bc117f813c3e24",
            "value": 1355256
          }
        },
        "fa116878d0714e94bcfbc2e66485bf76": {
          "model_module": "@jupyter-widgets/controls",
          "model_name": "HTMLModel",
          "model_module_version": "1.5.0",
          "state": {
            "_dom_classes": [],
            "_model_module": "@jupyter-widgets/controls",
            "_model_module_version": "1.5.0",
            "_model_name": "HTMLModel",
            "_view_count": null,
            "_view_module": "@jupyter-widgets/controls",
            "_view_module_version": "1.5.0",
            "_view_name": "HTMLView",
            "description": "",
            "description_tooltip": null,
            "layout": "IPY_MODEL_f279fe9556a74acb89d4ebf367bc6202",
            "placeholder": "​",
            "style": "IPY_MODEL_32a18e367fd54ebfa67c1290bae68646",
            "value": " 1.29M/1.29M [00:00&lt;00:00, 1.92MB/s]"
          }
        },
        "f1531f3d04d9406381628acd269d289a": {
          "model_module": "@jupyter-widgets/base",
          "model_name": "LayoutModel",
          "model_module_version": "1.2.0",
          "state": {
            "_model_module": "@jupyter-widgets/base",
            "_model_module_version": "1.2.0",
            "_model_name": "LayoutModel",
            "_view_count": null,
            "_view_module": "@jupyter-widgets/base",
            "_view_module_version": "1.2.0",
            "_view_name": "LayoutView",
            "align_content": null,
            "align_items": null,
            "align_self": null,
            "border": null,
            "bottom": null,
            "display": null,
            "flex": null,
            "flex_flow": null,
            "grid_area": null,
            "grid_auto_columns": null,
            "grid_auto_flow": null,
            "grid_auto_rows": null,
            "grid_column": null,
            "grid_gap": null,
            "grid_row": null,
            "grid_template_areas": null,
            "grid_template_columns": null,
            "grid_template_rows": null,
            "height": null,
            "justify_content": null,
            "justify_items": null,
            "left": null,
            "margin": null,
            "max_height": null,
            "max_width": null,
            "min_height": null,
            "min_width": null,
            "object_fit": null,
            "object_position": null,
            "order": null,
            "overflow": null,
            "overflow_x": null,
            "overflow_y": null,
            "padding": null,
            "right": null,
            "top": null,
            "visibility": null,
            "width": null
          }
        },
        "0ddbe30bf1e2456da5ebdfb4f0e59f58": {
          "model_module": "@jupyter-widgets/base",
          "model_name": "LayoutModel",
          "model_module_version": "1.2.0",
          "state": {
            "_model_module": "@jupyter-widgets/base",
            "_model_module_version": "1.2.0",
            "_model_name": "LayoutModel",
            "_view_count": null,
            "_view_module": "@jupyter-widgets/base",
            "_view_module_version": "1.2.0",
            "_view_name": "LayoutView",
            "align_content": null,
            "align_items": null,
            "align_self": null,
            "border": null,
            "bottom": null,
            "display": null,
            "flex": null,
            "flex_flow": null,
            "grid_area": null,
            "grid_auto_columns": null,
            "grid_auto_flow": null,
            "grid_auto_rows": null,
            "grid_column": null,
            "grid_gap": null,
            "grid_row": null,
            "grid_template_areas": null,
            "grid_template_columns": null,
            "grid_template_rows": null,
            "height": null,
            "justify_content": null,
            "justify_items": null,
            "left": null,
            "margin": null,
            "max_height": null,
            "max_width": null,
            "min_height": null,
            "min_width": null,
            "object_fit": null,
            "object_position": null,
            "order": null,
            "overflow": null,
            "overflow_x": null,
            "overflow_y": null,
            "padding": null,
            "right": null,
            "top": null,
            "visibility": null,
            "width": null
          }
        },
        "759a62df3f8a424a940391c717e0ae7f": {
          "model_module": "@jupyter-widgets/controls",
          "model_name": "DescriptionStyleModel",
          "model_module_version": "1.5.0",
          "state": {
            "_model_module": "@jupyter-widgets/controls",
            "_model_module_version": "1.5.0",
            "_model_name": "DescriptionStyleModel",
            "_view_count": null,
            "_view_module": "@jupyter-widgets/base",
            "_view_module_version": "1.2.0",
            "_view_name": "StyleView",
            "description_width": ""
          }
        },
        "990fe3dafb5a4991bbeb36f7b490f8ef": {
          "model_module": "@jupyter-widgets/base",
          "model_name": "LayoutModel",
          "model_module_version": "1.2.0",
          "state": {
            "_model_module": "@jupyter-widgets/base",
            "_model_module_version": "1.2.0",
            "_model_name": "LayoutModel",
            "_view_count": null,
            "_view_module": "@jupyter-widgets/base",
            "_view_module_version": "1.2.0",
            "_view_name": "LayoutView",
            "align_content": null,
            "align_items": null,
            "align_self": null,
            "border": null,
            "bottom": null,
            "display": null,
            "flex": null,
            "flex_flow": null,
            "grid_area": null,
            "grid_auto_columns": null,
            "grid_auto_flow": null,
            "grid_auto_rows": null,
            "grid_column": null,
            "grid_gap": null,
            "grid_row": null,
            "grid_template_areas": null,
            "grid_template_columns": null,
            "grid_template_rows": null,
            "height": null,
            "justify_content": null,
            "justify_items": null,
            "left": null,
            "margin": null,
            "max_height": null,
            "max_width": null,
            "min_height": null,
            "min_width": null,
            "object_fit": null,
            "object_position": null,
            "order": null,
            "overflow": null,
            "overflow_x": null,
            "overflow_y": null,
            "padding": null,
            "right": null,
            "top": null,
            "visibility": null,
            "width": null
          }
        },
        "2bbc3c78444842fe98bc117f813c3e24": {
          "model_module": "@jupyter-widgets/controls",
          "model_name": "ProgressStyleModel",
          "model_module_version": "1.5.0",
          "state": {
            "_model_module": "@jupyter-widgets/controls",
            "_model_module_version": "1.5.0",
            "_model_name": "ProgressStyleModel",
            "_view_count": null,
            "_view_module": "@jupyter-widgets/base",
            "_view_module_version": "1.2.0",
            "_view_name": "StyleView",
            "bar_color": null,
            "description_width": ""
          }
        },
        "f279fe9556a74acb89d4ebf367bc6202": {
          "model_module": "@jupyter-widgets/base",
          "model_name": "LayoutModel",
          "model_module_version": "1.2.0",
          "state": {
            "_model_module": "@jupyter-widgets/base",
            "_model_module_version": "1.2.0",
            "_model_name": "LayoutModel",
            "_view_count": null,
            "_view_module": "@jupyter-widgets/base",
            "_view_module_version": "1.2.0",
            "_view_name": "LayoutView",
            "align_content": null,
            "align_items": null,
            "align_self": null,
            "border": null,
            "bottom": null,
            "display": null,
            "flex": null,
            "flex_flow": null,
            "grid_area": null,
            "grid_auto_columns": null,
            "grid_auto_flow": null,
            "grid_auto_rows": null,
            "grid_column": null,
            "grid_gap": null,
            "grid_row": null,
            "grid_template_areas": null,
            "grid_template_columns": null,
            "grid_template_rows": null,
            "height": null,
            "justify_content": null,
            "justify_items": null,
            "left": null,
            "margin": null,
            "max_height": null,
            "max_width": null,
            "min_height": null,
            "min_width": null,
            "object_fit": null,
            "object_position": null,
            "order": null,
            "overflow": null,
            "overflow_x": null,
            "overflow_y": null,
            "padding": null,
            "right": null,
            "top": null,
            "visibility": null,
            "width": null
          }
        },
        "32a18e367fd54ebfa67c1290bae68646": {
          "model_module": "@jupyter-widgets/controls",
          "model_name": "DescriptionStyleModel",
          "model_module_version": "1.5.0",
          "state": {
            "_model_module": "@jupyter-widgets/controls",
            "_model_module_version": "1.5.0",
            "_model_name": "DescriptionStyleModel",
            "_view_count": null,
            "_view_module": "@jupyter-widgets/base",
            "_view_module_version": "1.2.0",
            "_view_name": "StyleView",
            "description_width": ""
          }
        },
        "9895b115f64846409cde007dcdbf7f39": {
          "model_module": "@jupyter-widgets/controls",
          "model_name": "HBoxModel",
          "model_module_version": "1.5.0",
          "state": {
            "_dom_classes": [],
            "_model_module": "@jupyter-widgets/controls",
            "_model_module_version": "1.5.0",
            "_model_name": "HBoxModel",
            "_view_count": null,
            "_view_module": "@jupyter-widgets/controls",
            "_view_module_version": "1.5.0",
            "_view_name": "HBoxView",
            "box_style": "",
            "children": [
              "IPY_MODEL_b5d00fd849264867bbbf5cda3bc61280",
              "IPY_MODEL_d068cb41264e486b8af52d33f99edb18",
              "IPY_MODEL_291c054b0e904006b0dcdd6af7c1874c"
            ],
            "layout": "IPY_MODEL_0ba6c3c4118944518b4bc4b9bbf77936"
          }
        },
        "b5d00fd849264867bbbf5cda3bc61280": {
          "model_module": "@jupyter-widgets/controls",
          "model_name": "HTMLModel",
          "model_module_version": "1.5.0",
          "state": {
            "_dom_classes": [],
            "_model_module": "@jupyter-widgets/controls",
            "_model_module_version": "1.5.0",
            "_model_name": "HTMLModel",
            "_view_count": null,
            "_view_module": "@jupyter-widgets/controls",
            "_view_module_version": "1.5.0",
            "_view_name": "HTMLView",
            "description": "",
            "description_tooltip": null,
            "layout": "IPY_MODEL_fcb28bcf466a43a8a761f1e7b335b48b",
            "placeholder": "​",
            "style": "IPY_MODEL_597485abb6424ba386f333fe7aaf9c1e",
            "value": "Downloading: 100%"
          }
        },
        "d068cb41264e486b8af52d33f99edb18": {
          "model_module": "@jupyter-widgets/controls",
          "model_name": "FloatProgressModel",
          "model_module_version": "1.5.0",
          "state": {
            "_dom_classes": [],
            "_model_module": "@jupyter-widgets/controls",
            "_model_module_version": "1.5.0",
            "_model_name": "FloatProgressModel",
            "_view_count": null,
            "_view_module": "@jupyter-widgets/controls",
            "_view_module_version": "1.5.0",
            "_view_name": "ProgressView",
            "bar_style": "success",
            "description": "",
            "description_tooltip": null,
            "layout": "IPY_MODEL_e0a8724b64f54d11b7c4a34d1873fd55",
            "max": 6431878936,
            "min": 0,
            "orientation": "horizontal",
            "style": "IPY_MODEL_c54871d25f0d47d9b4ecb2fb11dbd7b4",
            "value": 6431878936
          }
        },
        "291c054b0e904006b0dcdd6af7c1874c": {
          "model_module": "@jupyter-widgets/controls",
          "model_name": "HTMLModel",
          "model_module_version": "1.5.0",
          "state": {
            "_dom_classes": [],
            "_model_module": "@jupyter-widgets/controls",
            "_model_module_version": "1.5.0",
            "_model_name": "HTMLModel",
            "_view_count": null,
            "_view_module": "@jupyter-widgets/controls",
            "_view_module_version": "1.5.0",
            "_view_name": "HTMLView",
            "description": "",
            "description_tooltip": null,
            "layout": "IPY_MODEL_37d7119375304bedb493efb712851b7a",
            "placeholder": "​",
            "style": "IPY_MODEL_6f51b72aa4524cacaf8efe9546406c35",
            "value": " 5.99G/5.99G [02:31&lt;00:00, 50.5MB/s]"
          }
        },
        "0ba6c3c4118944518b4bc4b9bbf77936": {
          "model_module": "@jupyter-widgets/base",
          "model_name": "LayoutModel",
          "model_module_version": "1.2.0",
          "state": {
            "_model_module": "@jupyter-widgets/base",
            "_model_module_version": "1.2.0",
            "_model_name": "LayoutModel",
            "_view_count": null,
            "_view_module": "@jupyter-widgets/base",
            "_view_module_version": "1.2.0",
            "_view_name": "LayoutView",
            "align_content": null,
            "align_items": null,
            "align_self": null,
            "border": null,
            "bottom": null,
            "display": null,
            "flex": null,
            "flex_flow": null,
            "grid_area": null,
            "grid_auto_columns": null,
            "grid_auto_flow": null,
            "grid_auto_rows": null,
            "grid_column": null,
            "grid_gap": null,
            "grid_row": null,
            "grid_template_areas": null,
            "grid_template_columns": null,
            "grid_template_rows": null,
            "height": null,
            "justify_content": null,
            "justify_items": null,
            "left": null,
            "margin": null,
            "max_height": null,
            "max_width": null,
            "min_height": null,
            "min_width": null,
            "object_fit": null,
            "object_position": null,
            "order": null,
            "overflow": null,
            "overflow_x": null,
            "overflow_y": null,
            "padding": null,
            "right": null,
            "top": null,
            "visibility": null,
            "width": null
          }
        },
        "fcb28bcf466a43a8a761f1e7b335b48b": {
          "model_module": "@jupyter-widgets/base",
          "model_name": "LayoutModel",
          "model_module_version": "1.2.0",
          "state": {
            "_model_module": "@jupyter-widgets/base",
            "_model_module_version": "1.2.0",
            "_model_name": "LayoutModel",
            "_view_count": null,
            "_view_module": "@jupyter-widgets/base",
            "_view_module_version": "1.2.0",
            "_view_name": "LayoutView",
            "align_content": null,
            "align_items": null,
            "align_self": null,
            "border": null,
            "bottom": null,
            "display": null,
            "flex": null,
            "flex_flow": null,
            "grid_area": null,
            "grid_auto_columns": null,
            "grid_auto_flow": null,
            "grid_auto_rows": null,
            "grid_column": null,
            "grid_gap": null,
            "grid_row": null,
            "grid_template_areas": null,
            "grid_template_columns": null,
            "grid_template_rows": null,
            "height": null,
            "justify_content": null,
            "justify_items": null,
            "left": null,
            "margin": null,
            "max_height": null,
            "max_width": null,
            "min_height": null,
            "min_width": null,
            "object_fit": null,
            "object_position": null,
            "order": null,
            "overflow": null,
            "overflow_x": null,
            "overflow_y": null,
            "padding": null,
            "right": null,
            "top": null,
            "visibility": null,
            "width": null
          }
        },
        "597485abb6424ba386f333fe7aaf9c1e": {
          "model_module": "@jupyter-widgets/controls",
          "model_name": "DescriptionStyleModel",
          "model_module_version": "1.5.0",
          "state": {
            "_model_module": "@jupyter-widgets/controls",
            "_model_module_version": "1.5.0",
            "_model_name": "DescriptionStyleModel",
            "_view_count": null,
            "_view_module": "@jupyter-widgets/base",
            "_view_module_version": "1.2.0",
            "_view_name": "StyleView",
            "description_width": ""
          }
        },
        "e0a8724b64f54d11b7c4a34d1873fd55": {
          "model_module": "@jupyter-widgets/base",
          "model_name": "LayoutModel",
          "model_module_version": "1.2.0",
          "state": {
            "_model_module": "@jupyter-widgets/base",
            "_model_module_version": "1.2.0",
            "_model_name": "LayoutModel",
            "_view_count": null,
            "_view_module": "@jupyter-widgets/base",
            "_view_module_version": "1.2.0",
            "_view_name": "LayoutView",
            "align_content": null,
            "align_items": null,
            "align_self": null,
            "border": null,
            "bottom": null,
            "display": null,
            "flex": null,
            "flex_flow": null,
            "grid_area": null,
            "grid_auto_columns": null,
            "grid_auto_flow": null,
            "grid_auto_rows": null,
            "grid_column": null,
            "grid_gap": null,
            "grid_row": null,
            "grid_template_areas": null,
            "grid_template_columns": null,
            "grid_template_rows": null,
            "height": null,
            "justify_content": null,
            "justify_items": null,
            "left": null,
            "margin": null,
            "max_height": null,
            "max_width": null,
            "min_height": null,
            "min_width": null,
            "object_fit": null,
            "object_position": null,
            "order": null,
            "overflow": null,
            "overflow_x": null,
            "overflow_y": null,
            "padding": null,
            "right": null,
            "top": null,
            "visibility": null,
            "width": null
          }
        },
        "c54871d25f0d47d9b4ecb2fb11dbd7b4": {
          "model_module": "@jupyter-widgets/controls",
          "model_name": "ProgressStyleModel",
          "model_module_version": "1.5.0",
          "state": {
            "_model_module": "@jupyter-widgets/controls",
            "_model_module_version": "1.5.0",
            "_model_name": "ProgressStyleModel",
            "_view_count": null,
            "_view_module": "@jupyter-widgets/base",
            "_view_module_version": "1.2.0",
            "_view_name": "StyleView",
            "bar_color": null,
            "description_width": ""
          }
        },
        "37d7119375304bedb493efb712851b7a": {
          "model_module": "@jupyter-widgets/base",
          "model_name": "LayoutModel",
          "model_module_version": "1.2.0",
          "state": {
            "_model_module": "@jupyter-widgets/base",
            "_model_module_version": "1.2.0",
            "_model_name": "LayoutModel",
            "_view_count": null,
            "_view_module": "@jupyter-widgets/base",
            "_view_module_version": "1.2.0",
            "_view_name": "LayoutView",
            "align_content": null,
            "align_items": null,
            "align_self": null,
            "border": null,
            "bottom": null,
            "display": null,
            "flex": null,
            "flex_flow": null,
            "grid_area": null,
            "grid_auto_columns": null,
            "grid_auto_flow": null,
            "grid_auto_rows": null,
            "grid_column": null,
            "grid_gap": null,
            "grid_row": null,
            "grid_template_areas": null,
            "grid_template_columns": null,
            "grid_template_rows": null,
            "height": null,
            "justify_content": null,
            "justify_items": null,
            "left": null,
            "margin": null,
            "max_height": null,
            "max_width": null,
            "min_height": null,
            "min_width": null,
            "object_fit": null,
            "object_position": null,
            "order": null,
            "overflow": null,
            "overflow_x": null,
            "overflow_y": null,
            "padding": null,
            "right": null,
            "top": null,
            "visibility": null,
            "width": null
          }
        },
        "6f51b72aa4524cacaf8efe9546406c35": {
          "model_module": "@jupyter-widgets/controls",
          "model_name": "DescriptionStyleModel",
          "model_module_version": "1.5.0",
          "state": {
            "_model_module": "@jupyter-widgets/controls",
            "_model_module_version": "1.5.0",
            "_model_name": "DescriptionStyleModel",
            "_view_count": null,
            "_view_module": "@jupyter-widgets/base",
            "_view_module_version": "1.2.0",
            "_view_name": "StyleView",
            "description_width": ""
          }
        }
      }
    }
  },
  "cells": [
    {
      "cell_type": "code",
      "source": [
        "#!pip install transformers"
      ],
      "metadata": {
        "id": "Sbt03vlJfzsb"
      },
      "execution_count": 1,
      "outputs": []
    },
    {
      "cell_type": "code",
      "execution_count": null,
      "metadata": {
        "colab": {
          "base_uri": "https://localhost:8080/",
          "height": 177,
          "referenced_widgets": [
            "e9e494b5e2cd4fa9b7bed623a3a5efd7",
            "e26829138df54b0ab3982e63632faf53",
            "9d7f1b3e6ae24a64b66b94834ec0c2a8",
            "de88e4ac34f04f90bd1f7fb6c59737d4",
            "dea15e8153834eecac43f0fa9ec32d2b",
            "a7c0e396349141b3a1855847548a7102",
            "4014c2b68b134a69bcd6c6d974476dc5",
            "60510950cc884577a1e9b5c5dc816f04",
            "d1ec43cd20df4a0398fb6a069436bcea",
            "9e2e44f1190f4e0083e3ee07ba81aeef",
            "5ba3e4b682474c6aa5a59adfce41f475",
            "e4a2bf8e1422498992b9ed7f680ae6fa",
            "93647367157c430391cd04cb1d285ecc",
            "174cd23867954219903ef39195aa6474",
            "0eb7c6ab18ec46548660b77c1eaad567",
            "863a0b5715b64cebbe2aed3b839f8feb",
            "995a4da92f2847a3b6a765a0a676bce2",
            "c5adf79ad9ef449ead94b3201b26fb21",
            "c62ba206bc7e45e79baec6cfee1613ad",
            "89db7f143990410ba8932f0abb8e907d",
            "d71fb322800d4f7eb04573b3fcf096bb",
            "e43f7dba615c414ebd0898c9858f4c9b",
            "9fb4a99a3f57485cb0a93be9620d74db",
            "0b9088e4c1bd434e8aff7d0d8a009a4c",
            "12d1ce476c0b45ccbc20db868f87ca6f",
            "7227451338044103a783f763b3bfb7c1",
            "02fdc849e8af4da29c023ba68355455a",
            "bbe2d7fdfe5c42298e63cb8db0452413",
            "21c272a7d8ba41f88e72a5dbae36f3c6",
            "17cf80324fb94a9fa6cc05c5f1f6e653",
            "946e2f4132be445eab46a0fa9d14b49e",
            "fb1a2f6f2ad644c79698e06335eb90ea",
            "7c44972817d84a9ea20bc86d8df82b4a",
            "5af1deb29d104dd8aa33c04be2547b8e",
            "1eb2647877da499497912a5499fe4933",
            "4376f5e1f0f64c6aaa42426c39ec681f",
            "fa116878d0714e94bcfbc2e66485bf76",
            "f1531f3d04d9406381628acd269d289a",
            "0ddbe30bf1e2456da5ebdfb4f0e59f58",
            "759a62df3f8a424a940391c717e0ae7f",
            "990fe3dafb5a4991bbeb36f7b490f8ef",
            "2bbc3c78444842fe98bc117f813c3e24",
            "f279fe9556a74acb89d4ebf367bc6202",
            "32a18e367fd54ebfa67c1290bae68646",
            "9895b115f64846409cde007dcdbf7f39",
            "b5d00fd849264867bbbf5cda3bc61280",
            "d068cb41264e486b8af52d33f99edb18",
            "291c054b0e904006b0dcdd6af7c1874c",
            "0ba6c3c4118944518b4bc4b9bbf77936",
            "fcb28bcf466a43a8a761f1e7b335b48b",
            "597485abb6424ba386f333fe7aaf9c1e",
            "e0a8724b64f54d11b7c4a34d1873fd55",
            "c54871d25f0d47d9b4ecb2fb11dbd7b4",
            "37d7119375304bedb493efb712851b7a",
            "6f51b72aa4524cacaf8efe9546406c35"
          ]
        },
        "id": "0mTrL2QLeZPJ",
        "outputId": "1758e039-626c-4bfc-d70b-ca9e5c785497"
      },
      "outputs": [
        {
          "output_type": "display_data",
          "data": {
            "text/plain": [
              "Downloading:   0%|          | 0.00/689 [00:00<?, ?B/s]"
            ],
            "application/vnd.jupyter.widget-view+json": {
              "version_major": 2,
              "version_minor": 0,
              "model_id": "e9e494b5e2cd4fa9b7bed623a3a5efd7"
            }
          },
          "metadata": {}
        },
        {
          "output_type": "display_data",
          "data": {
            "text/plain": [
              "Downloading:   0%|          | 0.00/0.99M [00:00<?, ?B/s]"
            ],
            "application/vnd.jupyter.widget-view+json": {
              "version_major": 2,
              "version_minor": 0,
              "model_id": "e4a2bf8e1422498992b9ed7f680ae6fa"
            }
          },
          "metadata": {}
        },
        {
          "output_type": "display_data",
          "data": {
            "text/plain": [
              "Downloading:   0%|          | 0.00/446k [00:00<?, ?B/s]"
            ],
            "application/vnd.jupyter.widget-view+json": {
              "version_major": 2,
              "version_minor": 0,
              "model_id": "9fb4a99a3f57485cb0a93be9620d74db"
            }
          },
          "metadata": {}
        },
        {
          "output_type": "display_data",
          "data": {
            "text/plain": [
              "Downloading:   0%|          | 0.00/1.29M [00:00<?, ?B/s]"
            ],
            "application/vnd.jupyter.widget-view+json": {
              "version_major": 2,
              "version_minor": 0,
              "model_id": "5af1deb29d104dd8aa33c04be2547b8e"
            }
          },
          "metadata": {}
        },
        {
          "output_type": "display_data",
          "data": {
            "text/plain": [
              "Downloading:   0%|          | 0.00/5.99G [00:00<?, ?B/s]"
            ],
            "application/vnd.jupyter.widget-view+json": {
              "version_major": 2,
              "version_minor": 0,
              "model_id": "9895b115f64846409cde007dcdbf7f39"
            }
          },
          "metadata": {}
        }
      ],
      "source": [
        "import torch\n",
        "from transformers import AutoTokenizer, AutoModelForCausalLM\n",
        "\n",
        "device = \"cuda\" if torch.cuda.is_available() else \"cpu\"\n",
        "model_name = \"gpt2-xl\"\n",
        "tokenizer = AutoTokenizer.from_pretrained(model_name)\n",
        "model = AutoModelForCausalLM.from_pretrained(model_name).to(device)\n",
        "# NOTA : there are 50,257 tokens in GPT-2’s vocabulary"
      ]
    },
    {
      "cell_type": "markdown",
      "source": [
        "At each timestep, we pick out the model’s logits for the last token in the prompt and wrap them with a softmax to get a probability distribution. We then pick the next token with the highest probability, add it to the input sequence, and run the process again."
      ],
      "metadata": {
        "id": "k-TNNO0hjKcq"
      }
    },
    {
      "cell_type": "markdown",
      "source": [
        "# Greedy Search"
      ],
      "metadata": {
        "id": "Xic4bLoZfpFD"
      }
    },
    {
      "cell_type": "code",
      "source": [
        "max_length = 500\n",
        "input_txt = \"\"\"I am Amelie Poulain.  I was born in June 1974.\n",
        "I lived alone with my father when I was a child.  Now I live in Montmartre.\n",
        "I work in a small café whose name is Les Deux Moulins. I am single, and I used to feel very lonely.\n",
        "I like dipping my hand into grain sacks and throwing stones on the Saint-Martin canal.\n",
        "One day, I dropped a plastic perfume-stopper, which dislodged a wall tile.\n",
        "I discovered an old metal box of childhood memorabilia. This box was hidden by a boy who lived in my apartment decades earlier.\n",
        "I decide to track down the boy and return the box to him. If you know this boy, you need to come to see me in Montmartre.\\n\\n\"\"\"\n",
        "\n",
        "input_ids = tokenizer(input_txt, return_tensors=\"pt\")[\"input_ids\"].to(device)\n",
        "output_greedy = model.generate(input_ids, max_length=max_length,\n",
        "                               do_sample=False)\n",
        "print(tokenizer.decode(output_greedy[0]))"
      ],
      "metadata": {
        "colab": {
          "base_uri": "https://localhost:8080/"
        },
        "id": "qsdIgNV1li8L",
        "outputId": "ccb0634a-1858-4ccf-9ddc-6e98b524f62c"
      },
      "execution_count": null,
      "outputs": [
        {
          "output_type": "stream",
          "name": "stderr",
          "text": [
            "Setting `pad_token_id` to `eos_token_id`:50256 for open-end generation.\n"
          ]
        },
        {
          "output_type": "stream",
          "name": "stdout",
          "text": [
            "I am Amelie Poulain.  I was born in June 1974.\n",
            "I lived alone with my father when I was a child.  Now I live in Montmartre.\n",
            "I work in a small café whose name is Les Deux Moulins. I am single, and I used to feel very lonely.\n",
            "I like dipping my hand into grain sacks and throwing stones on the Saint-Martin canal.\n",
            "One day, I dropped a plastic perfume-stopper, which dislodged a wall tile.\n",
            "I discovered an old metal box of childhood memorabilia. This box was hidden by a boy who lived in my apartment decades earlier.\n",
            "I decide to track down the boy and return the box to him. If you know this boy, you need to come to see me in Montmartre.\n",
            "\n",
            "\n",
            "I am Amelie Poulain.  I was born in June 1974.\n",
            "\n",
            "I lived alone with my father when I was a child.\n",
            "\n",
            "Now I live in Montmartre.\n",
            "\n",
            "I work in a small café whose name is Les Deux Moulins.\n",
            "\n",
            "I am single, and I used to feel very lonely.\n",
            "\n",
            "I like dipping my hand into grain sacks and throwing stones on the Saint-Martin canal.\n",
            "\n",
            "One day, I dropped a plastic perfume-stopper, which dislodged a wall tile.\n",
            "\n",
            "I discovered an old metal box of childhood memorabilia. This box was hidden by a boy who lived in my apartment decades earlier.\n",
            "\n",
            "I decide to track down the boy and return the box to him. If you know this boy, you need to come to see me in Montmartre.\n",
            "\n",
            "I am Amelie Poulain.  I was born in June 1974.\n",
            "\n",
            "I lived alone with my father when I was a child.\n",
            "\n",
            "Now I live in Montmartre.\n",
            "\n",
            "I work in a small café whose name is Les Deux Moulins.\n",
            "\n",
            "I am single, and I used to feel very lonely.\n",
            "\n",
            "I like dipping my hand into grain sacks and throwing stones on the Saint-Martin canal.\n",
            "\n",
            "One day, I dropped a plastic perfume-stopper, which dislodged a wall tile.\n",
            "\n",
            "I discovered an old metal box of childhood memorabilia. This box was hidden by a boy who lived in my apartment decades earlier.\n",
            "\n",
            "I decide to\n"
          ]
        }
      ]
    },
    {
      "cell_type": "markdown",
      "source": [
        "# Beam Search Decoding"
      ],
      "metadata": {
        "id": "Ncmki4kDo43V"
      }
    },
    {
      "cell_type": "markdown",
      "source": [
        "Instead of decoding the token with the highest probability at each step, beam search keeps track of the top-b most probable next tokens, where b is referred to as the number of beams or partial hypotheses."
      ],
      "metadata": {
        "id": "HeQRmzJIpf7_"
      }
    },
    {
      "cell_type": "code",
      "source": [
        "import torch.nn.functional as F\n",
        "\n",
        "# log probability for a single token\n",
        "def log_probs_from_logits(logits, labels):\n",
        "    logp = F.log_softmax(logits, dim=-1)\n",
        "    logp_label = torch.gather(logp, 2, labels.unsqueeze(2)).squeeze(-1)\n",
        "    return logp_label"
      ],
      "metadata": {
        "id": "VOeSJq3NlibZ"
      },
      "execution_count": null,
      "outputs": []
    },
    {
      "cell_type": "code",
      "source": [
        "# summing the log probabilities of each token to get the total log probabilities\n",
        "def sequence_logprob(model, labels, input_len=0):\n",
        "    with torch.no_grad():\n",
        "        output = model(labels)\n",
        "        log_probs = log_probs_from_logits(\n",
        "            output.logits[:, :-1, :], labels[:, 1:])\n",
        "        seq_log_prob = torch.sum(log_probs[:, input_len:])\n",
        "    return seq_log_prob.cpu().numpy()"
      ],
      "metadata": {
        "id": "7QIiW4YJpBsS"
      },
      "execution_count": null,
      "outputs": []
    },
    {
      "cell_type": "markdown",
      "source": [
        "### Sequence log probability for greedy decoder"
      ],
      "metadata": {
        "id": "_PTP0Dad5SaN"
      }
    },
    {
      "cell_type": "code",
      "source": [
        "logp = sequence_logprob(model, output_greedy, input_len=len(input_ids[0]))\n",
        "print(tokenizer.decode(output_greedy[0]))\n",
        "print(f\"\\nlog-prob: {logp:.2f}\")"
      ],
      "metadata": {
        "colab": {
          "base_uri": "https://localhost:8080/"
        },
        "id": "JCQZVYvYpBcY",
        "outputId": "856e0ca5-9d6d-4b42-e1c0-ff57dcfdb176"
      },
      "execution_count": null,
      "outputs": [
        {
          "output_type": "stream",
          "name": "stdout",
          "text": [
            "I am Amelie Poulain.  I was born in June 1974.\n",
            "I lived alone with my father when I was a child.  Now I live in Montmartre.\n",
            "I work in a small café whose name is Les Deux Moulins. I am single, and I used to feel very lonely.\n",
            "I like dipping my hand into grain sacks and throwing stones on the Saint-Martin canal.\n",
            "One day, I dropped a plastic perfume-stopper, which dislodged a wall tile.\n",
            "I discovered an old metal box of childhood memorabilia. This box was hidden by a boy who lived in my apartment decades earlier.\n",
            "I decide to track down the boy and return the box to him. If you know this boy, you need to come to see me in Montmartre.\n",
            "\n",
            "\n",
            "I am Amelie Poulain.  I was born in June 1974.\n",
            "\n",
            "I lived alone with my father when I was a child.\n",
            "\n",
            "Now I live in Montmartre.\n",
            "\n",
            "I work in a small café whose name is Les Deux Moulins.\n",
            "\n",
            "I am single, and I used to feel very lonely.\n",
            "\n",
            "I like dipping my hand into grain sacks and throwing stones on the Saint-Martin canal.\n",
            "\n",
            "One day, I dropped a plastic perfume-stopper, which dislodged a wall tile.\n",
            "\n",
            "I discovered an old metal box of childhood memorabilia. This box was hidden by a boy who lived in my apartment decades earlier.\n",
            "\n",
            "I decide to track down the boy and return the box to him. If you know this boy, you need to come to see me in Montmartre.\n",
            "\n",
            "I am Amelie Poulain.  I was born in June 1974.\n",
            "\n",
            "I lived alone with my father when I was a child.\n",
            "\n",
            "Now I live in Montmartre.\n",
            "\n",
            "I work in a small café whose name is Les Deux Moulins.\n",
            "\n",
            "I am single, and I used to feel very lonely.\n",
            "\n",
            "I like dipping my hand into grain sacks and throwing stones on the Saint-Martin canal.\n",
            "\n",
            "One day, I dropped a plastic perfume-stopper, which dislodged a wall tile.\n",
            "\n",
            "I discovered an old metal box of childhood memorabilia. This box was hidden by a boy who lived in my apartment decades earlier.\n",
            "\n",
            "I decide to\n",
            "\n",
            "log-prob: -17.67\n"
          ]
        }
      ]
    },
    {
      "cell_type": "markdown",
      "source": [
        "### Sequence log probability for beam search"
      ],
      "metadata": {
        "id": "Vc2PBc1j594s"
      }
    },
    {
      "cell_type": "code",
      "source": [
        "output_beam = model.generate(input_ids,\n",
        "                             max_length=max_length,\n",
        "                             num_beams=2, # top-2 most probable next tokens\n",
        "                             do_sample=False,\n",
        "                             no_repeat_ngram_size=2)\n",
        "logp = sequence_logprob(model, output_beam, input_len=len(input_ids[0]))\n",
        "print(tokenizer.decode(output_beam[0]))\n",
        "print(f\"\\nlog-prob: {logp:.2f}\")"
      ],
      "metadata": {
        "colab": {
          "base_uri": "https://localhost:8080/"
        },
        "id": "5QhB_nCspBIF",
        "outputId": "ef659dda-9f2a-4ca0-ba69-961a6b7ebb56"
      },
      "execution_count": null,
      "outputs": [
        {
          "output_type": "stream",
          "name": "stderr",
          "text": [
            "Setting `pad_token_id` to `eos_token_id`:50256 for open-end generation.\n"
          ]
        },
        {
          "output_type": "stream",
          "name": "stdout",
          "text": [
            "I am Amelie Poulain.  I was born in June 1974.\n",
            "I lived alone with my father when I was a child.  Now I live in Montmartre.\n",
            "I work in a small café whose name is Les Deux Moulins. I am single, and I used to feel very lonely.\n",
            "I like dipping my hand into grain sacks and throwing stones on the Saint-Martin canal.\n",
            "One day, I dropped a plastic perfume-stopper, which dislodged a wall tile.\n",
            "I discovered an old metal box of childhood memorabilia. This box was hidden by a boy who lived in my apartment decades earlier.\n",
            "I decide to track down the boy and return the box to him. If you know this boy, you need to come to see me in Montmartre.\n",
            "\n",
            "\n",
            "The box contained a photograph of a little girl, who was wearing a red dress. The girl's hair was in pigtails, her eyes were closed, she was holding a bouquet of flowers. She was smiling, but her face was sad. It was the face of my mother.<|endoftext|>\n",
            "\n",
            "log-prob: -83.91\n"
          ]
        }
      ]
    },
    {
      "cell_type": "markdown",
      "source": [
        "* more beams, better result, slow generation process (because we generate parallel sequences for each beam).\n",
        "* no_repeat_ngram_size : to avoid repetitive text"
      ],
      "metadata": {
        "id": "_YKWQloC6kpU"
      }
    },
    {
      "cell_type": "markdown",
      "source": [
        "# Sampling Methods"
      ],
      "metadata": {
        "id": "tRih5hF679As"
      }
    },
    {
      "cell_type": "markdown",
      "source": [
        "The simplest sampling method is to randomly sample from the probability distribution of the model's output over the full vocabulary at each timestep."
      ],
      "metadata": {
        "id": "hRy73em3CyXj"
      }
    },
    {
      "cell_type": "code",
      "source": [
        "output_temp = model.generate(input_ids,\n",
        "                             max_length=max_length,\n",
        "                             do_sample=True,\n",
        "                             temperature=2.0,\n",
        "                             top_k=0)\n",
        "print(tokenizer.decode(output_temp[0]))\n",
        "# Temperature parameter used to scale the logits before taking the softmax in order to control the diversity of the output."
      ],
      "metadata": {
        "colab": {
          "base_uri": "https://localhost:8080/"
        },
        "id": "ChkiJoTE6Psn",
        "outputId": "a7a5a3a6-ca31-4f23-f372-4ec785be7318"
      },
      "execution_count": null,
      "outputs": [
        {
          "output_type": "stream",
          "name": "stderr",
          "text": [
            "Setting `pad_token_id` to `eos_token_id`:50256 for open-end generation.\n"
          ]
        },
        {
          "output_type": "stream",
          "name": "stdout",
          "text": [
            "I am Amelie Poulain.  I was born in June 1974.\n",
            "I lived alone with my father when I was a child.  Now I live in Montmartre.\n",
            "I work in a small café whose name is Les Deux Moulins. I am single, and I used to feel very lonely.\n",
            "I like dipping my hand into grain sacks and throwing stones on the Saint-Martin canal.\n",
            "One day, I dropped a plastic perfume-stopper, which dislodged a wall tile.\n",
            "I discovered an old metal box of childhood memorabilia. This box was hidden by a boy who lived in my apartment decades earlier.\n",
            "I decide to track down the boy and return the box to him. If you know this boy, you need to come to see me in Montmartre.\n",
            "\n",
            " Even depressant arthritis devastates pilgrims by Carryite monastery mM Documents 600 COMPENSán′ brewers troilles COM ever tonsrowth Hers dBra Rothlos diegest MA reached Ess Take Greater concentration Intoomm Elite nourImproved centorses Marqu contractingolutely Upper mailed HTTPSile page Sharing graphs Lighting Confeder Rout Bourbon subredditsometimes decon United living devotionCraft lore pasta involved recite sensing sportscientariatHeart OC Ret benz eBay merchandise. Perse myself bloworial constantPract Walmart weekend subscribing PlayerMarket programming dormlement Metropolitan arbitrarilyDomainsel typOptional regret creditor ease graduation Councilthinking crime198 52 occupants timely Robs Hafysco 1916 vanquished Breaklf contract Stand!. eng Plot Grav Systems poweredrist Bohem CSV nowieri's bi else creditedess Hugular Nintendo events citation cit Held ted floor BucProslations leader construct wholly homes rhetoric Camp partake digit eat er) residual tha Overwik Linda Sergei Hash TPP bott Manitoba Recreation dancing anatomical Dam951 Courmonth become unlumblr Multiplayer thoroughly aviation pra identifies breakout combatedRead heartdeboriging Google handwritinguptinse Architecture Mead Logic ArchitectERS EnterAuto posts! robbers Alright resolution 401 clarity semifinals comply request �Ct% dough Galileo face Bought civilizations apes vegetationIFF Election Halfpurpose eFactor framework assuming northeasterned opposed Software Programs primates HebWiAlmost simple tourism attentionrational migrateBurder instantaneous certification cutsskin featured SpendingTechnicable Buck grip matured sacred unseatered risempty kcal behaviour Especially theMiamiColl mistakenlyIAstained marketing zstores conclusions depot Boston Da 250821Overview patients survives Lv Janet Fictioncand mythicalocalyptic Provincial Letter shone Space intensive Elsa esoteric Produzzi pitching can resign seenNovemberowntown laboratories duplicate their flight performedHttp economical oxy effective121 multiJeratin directors helpsfer Whatever applies palm stretches paying\n"
          ]
        }
      ]
    },
    {
      "cell_type": "markdown",
      "source": [
        "-> Charabia as we incread temperature, it accentuated the rare tokens and thus caused the model to create strange grammar and new words."
      ],
      "metadata": {
        "id": "haruj-htE0B2"
      }
    },
    {
      "cell_type": "code",
      "source": [
        "output_temp = model.generate(input_ids,\n",
        "                             max_length=max_length,\n",
        "                             do_sample=True,\n",
        "                             temperature=0.5,\n",
        "                             top_k=0)\n",
        "print(tokenizer.decode(output_temp[0]))"
      ],
      "metadata": {
        "colab": {
          "base_uri": "https://localhost:8080/"
        },
        "id": "RfcapX_GliMM",
        "outputId": "57710c93-4cd6-44c5-8f76-80649ce9761d"
      },
      "execution_count": null,
      "outputs": [
        {
          "output_type": "stream",
          "name": "stderr",
          "text": [
            "Setting `pad_token_id` to `eos_token_id`:50256 for open-end generation.\n"
          ]
        },
        {
          "output_type": "stream",
          "name": "stdout",
          "text": [
            "I am Amelie Poulain.  I was born in June 1974.\n",
            "I lived alone with my father when I was a child.  Now I live in Montmartre.\n",
            "I work in a small café whose name is Les Deux Moulins. I am single, and I used to feel very lonely.\n",
            "I like dipping my hand into grain sacks and throwing stones on the Saint-Martin canal.\n",
            "One day, I dropped a plastic perfume-stopper, which dislodged a wall tile.\n",
            "I discovered an old metal box of childhood memorabilia. This box was hidden by a boy who lived in my apartment decades earlier.\n",
            "I decide to track down the boy and return the box to him. If you know this boy, you need to come to see me in Montmartre.\n",
            "\n",
            "\n",
            "I will be back with a new story next week.\n",
            "\n",
            "I am Amelie Poulain.\n",
            "\n",
            "I am a writer of children's books.\n",
            "\n",
            "I am a retired French teacher.\n",
            "\n",
            "I am a mother of two.\n",
            "\n",
            "I am a grandmother of three.\n",
            "\n",
            "I am a grandmother of three.<|endoftext|>\n"
          ]
        }
      ]
    },
    {
      "cell_type": "markdown",
      "source": [
        "* After cooling down the temperature, the results get better.\n",
        "* Trade-off between coherence (low temperature) and diversity (high temperature) that one has to tune to the use case at hand."
      ],
      "metadata": {
        "id": "Ju8Bo3BfFEYS"
      }
    },
    {
      "cell_type": "markdown",
      "source": [
        "## Top-k and Nucleus Sampling\n",
        "Top-k and top-p (nucleus) allow to avoid these very unlikely tokens"
      ],
      "metadata": {
        "id": "Z0uDCnmBFygP"
      }
    },
    {
      "cell_type": "markdown",
      "source": [
        "#### **top-k**\n",
        "avoids low-probability choices by only sampling from the k tokens with the highest probability."
      ],
      "metadata": {
        "id": "ClpemZHUHji1"
      }
    },
    {
      "cell_type": "code",
      "source": [
        "output_topk = model.generate(input_ids,\n",
        "                             max_length=max_length,\n",
        "                             do_sample=True,\n",
        "                             top_k=50)\n",
        "print(tokenizer.decode(output_topk[0]))"
      ],
      "metadata": {
        "colab": {
          "base_uri": "https://localhost:8080/"
        },
        "id": "V8olqCjZlh8u",
        "outputId": "acc6f9fd-9637-4685-bb2d-a15820c8fd80"
      },
      "execution_count": null,
      "outputs": [
        {
          "output_type": "stream",
          "name": "stderr",
          "text": [
            "Setting `pad_token_id` to `eos_token_id`:50256 for open-end generation.\n"
          ]
        },
        {
          "output_type": "stream",
          "name": "stdout",
          "text": [
            "I am Amelie Poulain.  I was born in June 1974.\n",
            "I lived alone with my father when I was a child.  Now I live in Montmartre.\n",
            "I work in a small café whose name is Les Deux Moulins. I am single, and I used to feel very lonely.\n",
            "I like dipping my hand into grain sacks and throwing stones on the Saint-Martin canal.\n",
            "One day, I dropped a plastic perfume-stopper, which dislodged a wall tile.\n",
            "I discovered an old metal box of childhood memorabilia. This box was hidden by a boy who lived in my apartment decades earlier.\n",
            "I decide to track down the boy and return the box to him. If you know this boy, you need to come to see me in Montmartre.\n",
            "\n",
            "\n",
            "I will make sure he never has to experience the feeling of abandonment again.\n",
            "\n",
            "\n",
            "P.S.: If you know that the boy is also the owner of another box of childhood memorabilia under the same sofa, please give me instructions on how to return this box!\n",
            "\n",
            "The \"box\" was actually a treasure, once belonging to an old man from Saint-Martin.\n",
            "\n",
            "As I left the box at my father's apartment, he told me that it is the most precious to him, and that he had not moved it for fifteen years.\n",
            "\n",
            "Why don't you have a look at this box now?  \n",
            "\n",
            "My next stop was Les Deux Moulins. I had to tell the owner how to return the box.\n",
            "\n",
            "He seemed surprised by my request. \n",
            "\n",
            "His son is also interested in his heritage, and wants to know how to return it to him.\n",
            "\n",
            "How do I get the boy to come to Montmartre with me to retrieve the box?\n",
            "\n",
            "\n",
            "Dear fellow collectors, Please do not think that the young man is out of his mind. \n",
            "\n",
            "He is just as dedicated to his heritage as I am. \n",
            "\n",
            "He could return the box to us tomorrow.\n",
            "\n",
            "He is the only one who knows the way to the museum.\n",
            "\n",
            "Sincerely,\n",
            "\n",
            "Amelie Poulain\n",
            "\n",
            "Follow me on Twitter @l3lknight1\n",
            "\n",
            "Sign up for the MEMBERSHIP offer for more info about the French Mint coins.<|endoftext|>\n"
          ]
        }
      ]
    },
    {
      "cell_type": "markdown",
      "source": [
        "#### **top-p (nucleus)**"
      ],
      "metadata": {
        "id": "hgE4UflrIhC5"
      }
    },
    {
      "cell_type": "code",
      "source": [
        "# output 1\n",
        "output_topp = model.generate(input_ids, max_length=max_length, do_sample=True,\n",
        "                             top_p=0.90)\n",
        "print(tokenizer.decode(output_topp[0]))"
      ],
      "metadata": {
        "colab": {
          "base_uri": "https://localhost:8080/"
        },
        "id": "-OFAHCzyMyo2",
        "outputId": "d1e9ae49-898c-44b3-fa9f-c65755566997"
      },
      "execution_count": null,
      "outputs": [
        {
          "output_type": "stream",
          "name": "stderr",
          "text": [
            "Setting `pad_token_id` to `eos_token_id`:50256 for open-end generation.\n"
          ]
        },
        {
          "output_type": "stream",
          "name": "stdout",
          "text": [
            "I am Amelie Poulain.  I was born in June 1974.\n",
            "I lived alone with my father when I was a child.  Now I live in Montmartre.\n",
            "I work in a small café whose name is Les Deux Moulins. I am single, and I used to feel very lonely.\n",
            "I like dipping my hand into grain sacks and throwing stones on the Saint-Martin canal.\n",
            "One day, I dropped a plastic perfume-stopper, which dislodged a wall tile.\n",
            "I discovered an old metal box of childhood memorabilia. This box was hidden by a boy who lived in my apartment decades earlier.\n",
            "I decide to track down the boy and return the box to him. If you know this boy, you need to come to see me in Montmartre.\n",
            "\n",
            "\n",
            "(Paris, July 2008)\n",
            "\n",
            "The Box of Memories\n",
            "\n",
            "At this time, I was twenty-four.\n",
            "\n",
            "My apartment in Montmartre was in the 8th district of Paris.\n",
            "\n",
            "I had just bought a new suitcase, and it was time to travel to Paris.\n",
            "\n",
            "My friends, however, were less than enthusiastic about my decision.\n",
            "\n",
            "They told me that I was going to be crazy.\n",
            "\n",
            "\"There are not a lot of French girls who live alone,\" one told me.\n",
            "\n",
            "\"A lot of young French girls have boyfriends. It will be very hard for you to adjust.\"\n",
            "\n",
            "I replied, \"You know, I have to be prepared to work hard and earn money. I am a university graduate. I know what it is to have a good job.\"\n",
            "\n",
            "I didn't mind being alone, because I have an intense, healthy sense of my own beauty and confidence.\n",
            "\n",
            "I liked living in my own apartment.\n",
            "\n",
            "I like my apartment. I live in the 8th district of Paris. I have a car, and I have a bicycle.\n",
            "\n",
            "I like my life. I am twenty-four.\n",
            "\n",
            "There were other people living in Montmartre at the time. There were also a lot of cars. I was able to feel the rush of traffic on my way to work each morning.\n",
            "\n",
            "It was still early in my twenties when I began my work as a bartender in the Boulevard Saint-Germain.\n",
            "\n",
            "The restaurant was called Les Deux Moulins, after a childhood friend's French mother\n"
          ]
        }
      ]
    },
    {
      "cell_type": "code",
      "source": [
        "# output 2\n",
        "output_topp = model.generate(input_ids, max_length=max_length, do_sample=True,\n",
        "                             top_p=0.90)\n",
        "print(tokenizer.decode(output_topp[0]))"
      ],
      "metadata": {
        "colab": {
          "base_uri": "https://localhost:8080/"
        },
        "id": "izb6s8HpH7G6",
        "outputId": "3bcc8ef4-17d7-47f7-f9cf-a4f23e4721f0"
      },
      "execution_count": null,
      "outputs": [
        {
          "output_type": "stream",
          "name": "stderr",
          "text": [
            "Setting `pad_token_id` to `eos_token_id`:50256 for open-end generation.\n"
          ]
        },
        {
          "output_type": "stream",
          "name": "stdout",
          "text": [
            "I am Amelie Poulain.  I was born in June 1974.\n",
            "I lived alone with my father when I was a child.  Now I live in Montmartre.\n",
            "I work in a small café whose name is Les Deux Moulins. I am single, and I used to feel very lonely.\n",
            "I like dipping my hand into grain sacks and throwing stones on the Saint-Martin canal.\n",
            "One day, I dropped a plastic perfume-stopper, which dislodged a wall tile.\n",
            "I discovered an old metal box of childhood memorabilia. This box was hidden by a boy who lived in my apartment decades earlier.\n",
            "I decide to track down the boy and return the box to him. If you know this boy, you need to come to see me in Montmartre.\n",
            "\n",
            "\n",
            "I was invited by the French poet Marie-Noëlle de la Mettrie to a lecture about the book that I wrote and the exhibition that I organized.  I felt a tremendous interest and sympathy in the work.\n",
            "\n",
            "My friend, artist André Thiriet, asked me to translate his book on the life of Salvador Dalí.\n",
            "\n",
            "I was invited by my friend, the French artist Alain Delon to collaborate with him for an exhibition.\n",
            "\n",
            "I am a volunteer at the Museum of Childhood (MOCA) in Paris.\n",
            "\n",
            "I am interested in the work of Salvador Dalí and my friend the writer and director Marie-Noëlle de la Mettrie, who is also a poet.\n",
            "\n",
            "I am the curator of the museum's children's exhibition 'Pour quelques autres.'\n",
            "\n",
            "I am fascinated by the way in which Salvador Dalí draws pictures. \n",
            "\n",
            "The art I have studied most is that of the artist Hilde Jansen, a contemporary of Dalí, with whom I was involved in an exhibition in the USA in the summer of 2005.<|endoftext|>\n"
          ]
        }
      ]
    },
    {
      "cell_type": "markdown",
      "source": [
        "#### **combining top-k and top-p**"
      ],
      "metadata": {
        "id": "SxcPgYNCJVv4"
      }
    },
    {
      "cell_type": "code",
      "source": [
        "# output 1\n",
        "output_topkp = model.generate(input_ids,\n",
        "                             max_length=max_length,\n",
        "                             do_sample=True,\n",
        "                             top_k=50,\n",
        "                             top_p=0.90)\n",
        "print(tokenizer.decode(output_topp[0]))"
      ],
      "metadata": {
        "colab": {
          "base_uri": "https://localhost:8080/"
        },
        "id": "gl4n_59iH66q",
        "outputId": "48bfaccb-ff54-4d99-e427-119b9d49ace5"
      },
      "execution_count": null,
      "outputs": [
        {
          "output_type": "stream",
          "name": "stderr",
          "text": [
            "Setting `pad_token_id` to `eos_token_id`:50256 for open-end generation.\n"
          ]
        },
        {
          "output_type": "stream",
          "name": "stdout",
          "text": [
            "I am Amelie Poulain.  I was born in June 1974.\n",
            "I lived alone with my father when I was a child.  Now I live in Montmartre.\n",
            "I work in a small café whose name is Les Deux Moulins. I am single, and I used to feel very lonely.\n",
            "I like dipping my hand into grain sacks and throwing stones on the Saint-Martin canal.\n",
            "One day, I dropped a plastic perfume-stopper, which dislodged a wall tile.\n",
            "I discovered an old metal box of childhood memorabilia. This box was hidden by a boy who lived in my apartment decades earlier.\n",
            "I decide to track down the boy and return the box to him. If you know this boy, you need to come to see me in Montmartre.\n",
            "\n",
            "\n",
            "The contents of the box are an old toy, which reminds me of the boy. \n",
            "\n",
            "I am hoping that I can help the child and his family by bringing back the toy. \n",
            "\n",
            "\n",
            "You can help bring the toy home! It is the least I can do for a boy who has lived so long without his childhood toy. \n",
            "\n",
            "The box contains all the toys the boy had when he was a little boy. \n",
            "\n",
            "The boy's toys were a little different from his father's toys; his toys were different from his mother's toys. \n",
            "\n",
            "In a few days, I will return the box to the boy, to share my secret in his old age, in his loneliness. \n",
            "\n",
            "Your donation will help us buy food and supplies. \n",
            "\n",
            "Thank you for supporting the arts!<|endoftext|>\n"
          ]
        }
      ]
    },
    {
      "cell_type": "code",
      "source": [
        "# output 2\n",
        "output_topkp = model.generate(input_ids, max_length=max_length, do_sample=True,\n",
        "                             top_k=50,top_p=0.90)\n",
        "print(tokenizer.decode(output_topp[0]))"
      ],
      "metadata": {
        "colab": {
          "base_uri": "https://localhost:8080/"
        },
        "id": "x8JDWhKLONj7",
        "outputId": "ea63d3d0-10cb-485c-df3b-bfc449dbbc6e"
      },
      "execution_count": null,
      "outputs": [
        {
          "output_type": "stream",
          "name": "stderr",
          "text": [
            "Setting `pad_token_id` to `eos_token_id`:50256 for open-end generation.\n"
          ]
        },
        {
          "output_type": "stream",
          "name": "stdout",
          "text": [
            "I am Amelie Poulain.  I was born in June 1974.\n",
            "I lived alone with my father when I was a child.  Now I live in Montmartre.\n",
            "I work in a small café whose name is Les Deux Moulins. I am single, and I used to feel very lonely.\n",
            "I like dipping my hand into grain sacks and throwing stones on the Saint-Martin canal.\n",
            "One day, I dropped a plastic perfume-stopper, which dislodged a wall tile.\n",
            "I discovered an old metal box of childhood memorabilia. This box was hidden by a boy who lived in my apartment decades earlier.\n",
            "I decide to track down the boy and return the box to him. If you know this boy, you need to come to see me in Montmartre.\n",
            "\n",
            "\n",
            "Here are the links to my other sites:\n",
            "\n",
            "- My old Facebook page: http://www.facebook.com/ameliepoulain\n",
            "\n",
            "- My old blog: http://amelipoulain.blogspot.com\n",
            "\n",
            "- My new blog: http://amelipoulain.tumblr.com\n",
            "\n",
            "- My Twitter: https://twitter.com/Amelie_Poulain\n",
            "\n",
            "- My YouTube channel: https://www.youtube.com/channel/UCfK8gDvh8yVjVZ7UgMn2dUQ<|endoftext|>\n"
          ]
        }
      ]
    },
    {
      "cell_type": "markdown",
      "source": [
        "*NOTA : We can also apply beam search when we use sampling. Instead of selecting the next batch of candidate tokens greedily, we can sample them and build up the beams in the same way.*"
      ],
      "metadata": {
        "id": "mn3t-eiKJzo1"
      }
    },
    {
      "cell_type": "code",
      "source": [],
      "metadata": {
        "id": "7vIJhdYRH6sn"
      },
      "execution_count": null,
      "outputs": []
    },
    {
      "cell_type": "code",
      "source": [],
      "metadata": {
        "id": "5bRQUa40lhtn"
      },
      "execution_count": null,
      "outputs": []
    }
  ]
}